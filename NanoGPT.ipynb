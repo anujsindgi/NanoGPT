{
 "cells": [
  {
   "cell_type": "code",
   "execution_count": 2,
   "id": "a42da93b-940a-4cbf-9f0e-95d8f8684b40",
   "metadata": {},
   "outputs": [
    {
     "name": "stdout",
     "output_type": "stream",
     "text": [
      "--2025-06-28 18:43:35--  https://raw.githubusercontent.com/karpathy/char-rnn/master/data/tinyshakespeare/input.txt\n",
      "Resolving raw.githubusercontent.com (raw.githubusercontent.com)... 2606:50c0:8000::154, 2606:50c0:8001::154, 2606:50c0:8002::154, ...\n",
      "Connecting to raw.githubusercontent.com (raw.githubusercontent.com)|2606:50c0:8000::154|:443... connected.\n",
      "HTTP request sent, awaiting response... 200 OK\n",
      "Length: 1115394 (1.1M) [text/plain]\n",
      "Saving to: ‘input.txt.1’\n",
      "\n",
      "input.txt.1         100%[===================>]   1.06M  --.-KB/s    in 0.08s   \n",
      "\n",
      "2025-06-28 18:43:36 (12.8 MB/s) - ‘input.txt.1’ saved [1115394/1115394]\n",
      "\n"
     ]
    }
   ],
   "source": [
    "!wget https://raw.githubusercontent.com/karpathy/char-rnn/master/data/tinyshakespeare/input.txt"
   ]
  },
  {
   "cell_type": "code",
   "execution_count": 3,
   "id": "ae1c0f06-2342-455f-8e99-abf684ddca26",
   "metadata": {},
   "outputs": [],
   "source": [
    "with open('input.txt', 'r', encoding='utf8') as f:\n",
    "    text = f.read()"
   ]
  },
  {
   "cell_type": "code",
   "execution_count": 4,
   "id": "045ed76b-647e-4022-93ef-a566a435adf4",
   "metadata": {},
   "outputs": [
    {
     "name": "stdout",
     "output_type": "stream",
     "text": [
      "1115394\n"
     ]
    }
   ],
   "source": [
    "print(len(text))"
   ]
  },
  {
   "cell_type": "code",
   "execution_count": 5,
   "id": "66f6a83b-38b6-4c2a-a509-780b7a5f16ae",
   "metadata": {},
   "outputs": [],
   "source": [
    "chars = sorted(list(set(text)))\n",
    "vocab_size = len(chars)"
   ]
  },
  {
   "cell_type": "code",
   "execution_count": 6,
   "id": "ead11ffb-d05b-495d-8430-32f124e32fb9",
   "metadata": {},
   "outputs": [],
   "source": [
    "stoi = {ch: i for i, ch in enumerate(chars)}\n",
    "itos = {i: ch for i, ch in enumerate(chars)}"
   ]
  },
  {
   "cell_type": "code",
   "execution_count": 7,
   "id": "5177ad92-6057-4aec-862f-934dadbaa2ea",
   "metadata": {},
   "outputs": [],
   "source": [
    "def encode(str):\n",
    "    return [stoi[s] for s in str]\n",
    "def decode(vec):\n",
    "    return ''.join([itos[i] for i in vec])"
   ]
  },
  {
   "cell_type": "code",
   "execution_count": 8,
   "id": "614e5f12-d40a-4d2a-8032-01d1d82a4b4a",
   "metadata": {},
   "outputs": [
    {
     "name": "stdout",
     "output_type": "stream",
     "text": [
      "[37, 53, 6, 1, 61, 46, 39, 58, 5, 57, 1, 59, 54, 12]\n",
      "Yo, what's up?\n"
     ]
    }
   ],
   "source": [
    "sample = \"Yo, what's up?\"\n",
    "print(encode(sample))\n",
    "print(decode(encode(sample)))"
   ]
  },
  {
   "cell_type": "code",
   "execution_count": 9,
   "id": "44a113ee-74de-4c33-b2d4-d0c17ad5ada9",
   "metadata": {},
   "outputs": [
    {
     "name": "stdout",
     "output_type": "stream",
     "text": [
      "tensor([1.], device='mps:0')\n"
     ]
    }
   ],
   "source": [
    "import torch\n",
    "if torch.backends.mps.is_available():\n",
    "    mps_device = torch.device(\"mps\")\n",
    "    x = torch.ones(1, device=mps_device)\n",
    "    print (x)\n",
    "else:\n",
    "    print (\"MPS device not found.\")"
   ]
  },
  {
   "cell_type": "code",
   "execution_count": 10,
   "id": "f5708808-2af5-4785-ac99-76e81a92c3b1",
   "metadata": {},
   "outputs": [
    {
     "name": "stdout",
     "output_type": "stream",
     "text": [
      "torch.Size([1115394]) torch.int64\n"
     ]
    }
   ],
   "source": [
    "data = torch.tensor(encode(text), dtype=torch.long)\n",
    "print(data.shape, data.dtype)"
   ]
  },
  {
   "cell_type": "markdown",
   "id": "0c24c852-4ca5-4e12-9597-4ddb745babf6",
   "metadata": {},
   "source": [
    "### Train - Test Split"
   ]
  },
  {
   "cell_type": "code",
   "execution_count": 11,
   "id": "454a0cb3-cd6e-4979-b1ed-db6bcb3d6b48",
   "metadata": {},
   "outputs": [],
   "source": [
    "n = int(0.8*len(data))\n",
    "train = data[:n]\n",
    "val = data[n:]"
   ]
  },
  {
   "cell_type": "code",
   "execution_count": 24,
   "id": "f9600038-7d15-45c4-b6f6-98414065e026",
   "metadata": {},
   "outputs": [
    {
     "name": "stdout",
     "output_type": "stream",
     "text": [
      "xb: tensor([[61, 47, 50, 50, 12,  0,  0, 28, 27, 24, 21, 36, 17, 26, 17, 31],\n",
      "        [43,  1, 51, 47, 45, 46, 58,  1, 39, 41, 58,  1, 58, 46, 43,  1],\n",
      "        [56,  1, 53, 44,  1, 58, 56, 47, 40, 59, 52, 43, 57,  1, 58, 46],\n",
      "        [ 1, 39,  1, 58, 39, 50, 50,  1, 44, 43, 50, 50, 53, 61,  1, 53],\n",
      "        [53, 44,  1, 49, 52, 47, 45, 46, 58, 50, 63,  1, 58, 56, 47, 39],\n",
      "        [56,  0, 32, 53,  1, 58, 39, 49, 43,  1, 53, 44, 44,  1, 57, 53],\n",
      "        [59, 39, 56, 56, 43, 50, 50, 43, 42,  1, 61, 47, 58, 46,  1, 39],\n",
      "        [56,  1, 58, 46, 43, 56, 43,  1, 47, 57,  1, 52, 53, 58, 46, 47]],\n",
      "       device='mps:0')\n",
      "yb: tensor([[47, 50, 50, 12,  0,  0, 28, 27, 24, 21, 36, 17, 26, 17, 31, 10],\n",
      "        [ 1, 51, 47, 45, 46, 58,  1, 39, 41, 58,  1, 58, 46, 43,  1, 61],\n",
      "        [ 1, 53, 44,  1, 58, 56, 47, 40, 59, 52, 43, 57,  1, 58, 46, 39],\n",
      "        [39,  1, 58, 39, 50, 50,  1, 44, 43, 50, 50, 53, 61,  1, 53, 44],\n",
      "        [44,  1, 49, 52, 47, 45, 46, 58, 50, 63,  1, 58, 56, 47, 39, 50],\n",
      "        [ 0, 32, 53,  1, 58, 39, 49, 43,  1, 53, 44, 44,  1, 57, 53,  1],\n",
      "        [39, 56, 56, 43, 50, 50, 43, 42,  1, 61, 47, 58, 46,  1, 39,  0],\n",
      "        [ 1, 58, 46, 43, 56, 43,  1, 47, 57,  1, 52, 53, 58, 46, 47, 52]],\n",
      "       device='mps:0')\n"
     ]
    }
   ],
   "source": [
    "batch_size = 8\n",
    "block_size = 16\n",
    "torch.manual_seed(42)\n",
    "\n",
    "def get_batch(split):\n",
    "    sample = train if split == 'train' else val\n",
    "    index = torch.randint(len(sample)-block_size, (batch_size,))\n",
    "    x = torch.stack([sample[i:i+block_size] for i in index])\n",
    "    y = torch.stack([sample[i+1:i+block_size+1] for i in index])\n",
    "    x, y = x.to(mps_device), y.to(mps_device)\n",
    "    return x,y\n",
    "    \n",
    "xb, yb = get_batch('train')\n",
    "print(\"xb:\", xb)\n",
    "print(\"yb:\", yb)"
   ]
  },
  {
   "cell_type": "code",
   "execution_count": 13,
   "id": "1ee6dbd0-2f4c-4ce5-91f9-cde2e0d541be",
   "metadata": {},
   "outputs": [
    {
     "name": "stdout",
     "output_type": "stream",
     "text": [
      "Context:  tensor([61])  target:  tensor(47)\n",
      "Context:  tensor([61, 47])  target:  tensor(50)\n",
      "Context:  tensor([61, 47, 50])  target:  tensor(50)\n",
      "Context:  tensor([61, 47, 50, 50])  target:  tensor(12)\n",
      "Context:  tensor([61, 47, 50, 50, 12])  target:  tensor(0)\n",
      "Context:  tensor([61, 47, 50, 50, 12,  0])  target:  tensor(0)\n",
      "Context:  tensor([61, 47, 50, 50, 12,  0,  0])  target:  tensor(28)\n",
      "Context:  tensor([61, 47, 50, 50, 12,  0,  0, 28])  target:  tensor(27)\n",
      "Context:  tensor([61, 47, 50, 50, 12,  0,  0, 28, 27])  target:  tensor(24)\n",
      "Context:  tensor([61, 47, 50, 50, 12,  0,  0, 28, 27, 24])  target:  tensor(21)\n",
      "Context:  tensor([61, 47, 50, 50, 12,  0,  0, 28, 27, 24, 21])  target:  tensor(36)\n",
      "Context:  tensor([61, 47, 50, 50, 12,  0,  0, 28, 27, 24, 21, 36])  target:  tensor(17)\n",
      "Context:  tensor([61, 47, 50, 50, 12,  0,  0, 28, 27, 24, 21, 36, 17])  target:  tensor(26)\n",
      "Context:  tensor([61, 47, 50, 50, 12,  0,  0, 28, 27, 24, 21, 36, 17, 26])  target:  tensor(17)\n",
      "Context:  tensor([61, 47, 50, 50, 12,  0,  0, 28, 27, 24, 21, 36, 17, 26, 17])  target:  tensor(31)\n",
      "Context:  tensor([61, 47, 50, 50, 12,  0,  0, 28, 27, 24, 21, 36, 17, 26, 17, 31])  target:  tensor(10)\n",
      "Context:  tensor([43])  target:  tensor(1)\n",
      "Context:  tensor([43,  1])  target:  tensor(51)\n",
      "Context:  tensor([43,  1, 51])  target:  tensor(47)\n",
      "Context:  tensor([43,  1, 51, 47])  target:  tensor(45)\n",
      "Context:  tensor([43,  1, 51, 47, 45])  target:  tensor(46)\n",
      "Context:  tensor([43,  1, 51, 47, 45, 46])  target:  tensor(58)\n",
      "Context:  tensor([43,  1, 51, 47, 45, 46, 58])  target:  tensor(1)\n",
      "Context:  tensor([43,  1, 51, 47, 45, 46, 58,  1])  target:  tensor(39)\n",
      "Context:  tensor([43,  1, 51, 47, 45, 46, 58,  1, 39])  target:  tensor(41)\n",
      "Context:  tensor([43,  1, 51, 47, 45, 46, 58,  1, 39, 41])  target:  tensor(58)\n",
      "Context:  tensor([43,  1, 51, 47, 45, 46, 58,  1, 39, 41, 58])  target:  tensor(1)\n",
      "Context:  tensor([43,  1, 51, 47, 45, 46, 58,  1, 39, 41, 58,  1])  target:  tensor(58)\n",
      "Context:  tensor([43,  1, 51, 47, 45, 46, 58,  1, 39, 41, 58,  1, 58])  target:  tensor(46)\n",
      "Context:  tensor([43,  1, 51, 47, 45, 46, 58,  1, 39, 41, 58,  1, 58, 46])  target:  tensor(43)\n",
      "Context:  tensor([43,  1, 51, 47, 45, 46, 58,  1, 39, 41, 58,  1, 58, 46, 43])  target:  tensor(1)\n",
      "Context:  tensor([43,  1, 51, 47, 45, 46, 58,  1, 39, 41, 58,  1, 58, 46, 43,  1])  target:  tensor(61)\n",
      "Context:  tensor([56])  target:  tensor(1)\n",
      "Context:  tensor([56,  1])  target:  tensor(53)\n",
      "Context:  tensor([56,  1, 53])  target:  tensor(44)\n",
      "Context:  tensor([56,  1, 53, 44])  target:  tensor(1)\n",
      "Context:  tensor([56,  1, 53, 44,  1])  target:  tensor(58)\n",
      "Context:  tensor([56,  1, 53, 44,  1, 58])  target:  tensor(56)\n",
      "Context:  tensor([56,  1, 53, 44,  1, 58, 56])  target:  tensor(47)\n",
      "Context:  tensor([56,  1, 53, 44,  1, 58, 56, 47])  target:  tensor(40)\n",
      "Context:  tensor([56,  1, 53, 44,  1, 58, 56, 47, 40])  target:  tensor(59)\n",
      "Context:  tensor([56,  1, 53, 44,  1, 58, 56, 47, 40, 59])  target:  tensor(52)\n",
      "Context:  tensor([56,  1, 53, 44,  1, 58, 56, 47, 40, 59, 52])  target:  tensor(43)\n",
      "Context:  tensor([56,  1, 53, 44,  1, 58, 56, 47, 40, 59, 52, 43])  target:  tensor(57)\n",
      "Context:  tensor([56,  1, 53, 44,  1, 58, 56, 47, 40, 59, 52, 43, 57])  target:  tensor(1)\n",
      "Context:  tensor([56,  1, 53, 44,  1, 58, 56, 47, 40, 59, 52, 43, 57,  1])  target:  tensor(58)\n",
      "Context:  tensor([56,  1, 53, 44,  1, 58, 56, 47, 40, 59, 52, 43, 57,  1, 58])  target:  tensor(46)\n",
      "Context:  tensor([56,  1, 53, 44,  1, 58, 56, 47, 40, 59, 52, 43, 57,  1, 58, 46])  target:  tensor(39)\n",
      "Context:  tensor([1])  target:  tensor(39)\n",
      "Context:  tensor([ 1, 39])  target:  tensor(1)\n",
      "Context:  tensor([ 1, 39,  1])  target:  tensor(58)\n",
      "Context:  tensor([ 1, 39,  1, 58])  target:  tensor(39)\n",
      "Context:  tensor([ 1, 39,  1, 58, 39])  target:  tensor(50)\n",
      "Context:  tensor([ 1, 39,  1, 58, 39, 50])  target:  tensor(50)\n",
      "Context:  tensor([ 1, 39,  1, 58, 39, 50, 50])  target:  tensor(1)\n",
      "Context:  tensor([ 1, 39,  1, 58, 39, 50, 50,  1])  target:  tensor(44)\n",
      "Context:  tensor([ 1, 39,  1, 58, 39, 50, 50,  1, 44])  target:  tensor(43)\n",
      "Context:  tensor([ 1, 39,  1, 58, 39, 50, 50,  1, 44, 43])  target:  tensor(50)\n",
      "Context:  tensor([ 1, 39,  1, 58, 39, 50, 50,  1, 44, 43, 50])  target:  tensor(50)\n",
      "Context:  tensor([ 1, 39,  1, 58, 39, 50, 50,  1, 44, 43, 50, 50])  target:  tensor(53)\n",
      "Context:  tensor([ 1, 39,  1, 58, 39, 50, 50,  1, 44, 43, 50, 50, 53])  target:  tensor(61)\n",
      "Context:  tensor([ 1, 39,  1, 58, 39, 50, 50,  1, 44, 43, 50, 50, 53, 61])  target:  tensor(1)\n",
      "Context:  tensor([ 1, 39,  1, 58, 39, 50, 50,  1, 44, 43, 50, 50, 53, 61,  1])  target:  tensor(53)\n",
      "Context:  tensor([ 1, 39,  1, 58, 39, 50, 50,  1, 44, 43, 50, 50, 53, 61,  1, 53])  target:  tensor(44)\n",
      "Context:  tensor([53])  target:  tensor(44)\n",
      "Context:  tensor([53, 44])  target:  tensor(1)\n",
      "Context:  tensor([53, 44,  1])  target:  tensor(49)\n",
      "Context:  tensor([53, 44,  1, 49])  target:  tensor(52)\n",
      "Context:  tensor([53, 44,  1, 49, 52])  target:  tensor(47)\n",
      "Context:  tensor([53, 44,  1, 49, 52, 47])  target:  tensor(45)\n",
      "Context:  tensor([53, 44,  1, 49, 52, 47, 45])  target:  tensor(46)\n",
      "Context:  tensor([53, 44,  1, 49, 52, 47, 45, 46])  target:  tensor(58)\n",
      "Context:  tensor([53, 44,  1, 49, 52, 47, 45, 46, 58])  target:  tensor(50)\n",
      "Context:  tensor([53, 44,  1, 49, 52, 47, 45, 46, 58, 50])  target:  tensor(63)\n",
      "Context:  tensor([53, 44,  1, 49, 52, 47, 45, 46, 58, 50, 63])  target:  tensor(1)\n",
      "Context:  tensor([53, 44,  1, 49, 52, 47, 45, 46, 58, 50, 63,  1])  target:  tensor(58)\n",
      "Context:  tensor([53, 44,  1, 49, 52, 47, 45, 46, 58, 50, 63,  1, 58])  target:  tensor(56)\n",
      "Context:  tensor([53, 44,  1, 49, 52, 47, 45, 46, 58, 50, 63,  1, 58, 56])  target:  tensor(47)\n",
      "Context:  tensor([53, 44,  1, 49, 52, 47, 45, 46, 58, 50, 63,  1, 58, 56, 47])  target:  tensor(39)\n",
      "Context:  tensor([53, 44,  1, 49, 52, 47, 45, 46, 58, 50, 63,  1, 58, 56, 47, 39])  target:  tensor(50)\n",
      "Context:  tensor([56])  target:  tensor(0)\n",
      "Context:  tensor([56,  0])  target:  tensor(32)\n",
      "Context:  tensor([56,  0, 32])  target:  tensor(53)\n",
      "Context:  tensor([56,  0, 32, 53])  target:  tensor(1)\n",
      "Context:  tensor([56,  0, 32, 53,  1])  target:  tensor(58)\n",
      "Context:  tensor([56,  0, 32, 53,  1, 58])  target:  tensor(39)\n",
      "Context:  tensor([56,  0, 32, 53,  1, 58, 39])  target:  tensor(49)\n",
      "Context:  tensor([56,  0, 32, 53,  1, 58, 39, 49])  target:  tensor(43)\n",
      "Context:  tensor([56,  0, 32, 53,  1, 58, 39, 49, 43])  target:  tensor(1)\n",
      "Context:  tensor([56,  0, 32, 53,  1, 58, 39, 49, 43,  1])  target:  tensor(53)\n",
      "Context:  tensor([56,  0, 32, 53,  1, 58, 39, 49, 43,  1, 53])  target:  tensor(44)\n",
      "Context:  tensor([56,  0, 32, 53,  1, 58, 39, 49, 43,  1, 53, 44])  target:  tensor(44)\n",
      "Context:  tensor([56,  0, 32, 53,  1, 58, 39, 49, 43,  1, 53, 44, 44])  target:  tensor(1)\n",
      "Context:  tensor([56,  0, 32, 53,  1, 58, 39, 49, 43,  1, 53, 44, 44,  1])  target:  tensor(57)\n",
      "Context:  tensor([56,  0, 32, 53,  1, 58, 39, 49, 43,  1, 53, 44, 44,  1, 57])  target:  tensor(53)\n",
      "Context:  tensor([56,  0, 32, 53,  1, 58, 39, 49, 43,  1, 53, 44, 44,  1, 57, 53])  target:  tensor(1)\n",
      "Context:  tensor([59])  target:  tensor(39)\n",
      "Context:  tensor([59, 39])  target:  tensor(56)\n",
      "Context:  tensor([59, 39, 56])  target:  tensor(56)\n",
      "Context:  tensor([59, 39, 56, 56])  target:  tensor(43)\n",
      "Context:  tensor([59, 39, 56, 56, 43])  target:  tensor(50)\n",
      "Context:  tensor([59, 39, 56, 56, 43, 50])  target:  tensor(50)\n",
      "Context:  tensor([59, 39, 56, 56, 43, 50, 50])  target:  tensor(43)\n",
      "Context:  tensor([59, 39, 56, 56, 43, 50, 50, 43])  target:  tensor(42)\n",
      "Context:  tensor([59, 39, 56, 56, 43, 50, 50, 43, 42])  target:  tensor(1)\n",
      "Context:  tensor([59, 39, 56, 56, 43, 50, 50, 43, 42,  1])  target:  tensor(61)\n",
      "Context:  tensor([59, 39, 56, 56, 43, 50, 50, 43, 42,  1, 61])  target:  tensor(47)\n",
      "Context:  tensor([59, 39, 56, 56, 43, 50, 50, 43, 42,  1, 61, 47])  target:  tensor(58)\n",
      "Context:  tensor([59, 39, 56, 56, 43, 50, 50, 43, 42,  1, 61, 47, 58])  target:  tensor(46)\n",
      "Context:  tensor([59, 39, 56, 56, 43, 50, 50, 43, 42,  1, 61, 47, 58, 46])  target:  tensor(1)\n",
      "Context:  tensor([59, 39, 56, 56, 43, 50, 50, 43, 42,  1, 61, 47, 58, 46,  1])  target:  tensor(39)\n",
      "Context:  tensor([59, 39, 56, 56, 43, 50, 50, 43, 42,  1, 61, 47, 58, 46,  1, 39])  target:  tensor(0)\n",
      "Context:  tensor([56])  target:  tensor(1)\n",
      "Context:  tensor([56,  1])  target:  tensor(58)\n",
      "Context:  tensor([56,  1, 58])  target:  tensor(46)\n",
      "Context:  tensor([56,  1, 58, 46])  target:  tensor(43)\n",
      "Context:  tensor([56,  1, 58, 46, 43])  target:  tensor(56)\n",
      "Context:  tensor([56,  1, 58, 46, 43, 56])  target:  tensor(43)\n",
      "Context:  tensor([56,  1, 58, 46, 43, 56, 43])  target:  tensor(1)\n",
      "Context:  tensor([56,  1, 58, 46, 43, 56, 43,  1])  target:  tensor(47)\n",
      "Context:  tensor([56,  1, 58, 46, 43, 56, 43,  1, 47])  target:  tensor(57)\n",
      "Context:  tensor([56,  1, 58, 46, 43, 56, 43,  1, 47, 57])  target:  tensor(1)\n",
      "Context:  tensor([56,  1, 58, 46, 43, 56, 43,  1, 47, 57,  1])  target:  tensor(52)\n",
      "Context:  tensor([56,  1, 58, 46, 43, 56, 43,  1, 47, 57,  1, 52])  target:  tensor(53)\n",
      "Context:  tensor([56,  1, 58, 46, 43, 56, 43,  1, 47, 57,  1, 52, 53])  target:  tensor(58)\n",
      "Context:  tensor([56,  1, 58, 46, 43, 56, 43,  1, 47, 57,  1, 52, 53, 58])  target:  tensor(46)\n",
      "Context:  tensor([56,  1, 58, 46, 43, 56, 43,  1, 47, 57,  1, 52, 53, 58, 46])  target:  tensor(47)\n",
      "Context:  tensor([56,  1, 58, 46, 43, 56, 43,  1, 47, 57,  1, 52, 53, 58, 46, 47])  target:  tensor(52)\n"
     ]
    }
   ],
   "source": [
    "for b in range(batch_size):\n",
    "    for t in range(block_size):\n",
    "        context = xb[b,:t+1]\n",
    "        target = yb[b,t]\n",
    "        print(\"Context: \", context, \" target: \", target)"
   ]
  },
  {
   "cell_type": "markdown",
   "id": "6ef325bf-8196-4f2f-bb1b-b35a3e3da553",
   "metadata": {},
   "source": [
    "#### How does the NN adapt to variable context length? "
   ]
  },
  {
   "cell_type": "markdown",
   "id": "eca170a5-2120-4825-828b-217ae541f0b5",
   "metadata": {},
   "source": [
    "### Bi-gram Language Model"
   ]
  },
  {
   "cell_type": "code",
   "execution_count": null,
   "id": "300ac6f1-d72f-4a63-883e-4181a7a38bfe",
   "metadata": {},
   "outputs": [],
   "source": []
  },
  {
   "cell_type": "code",
   "execution_count": null,
   "id": "fae15edd-63b3-4336-a155-779034155e10",
   "metadata": {},
   "outputs": [],
   "source": [
    "@torch.no_Grad()\n",
    "def estimate_loss():\n",
    "    out = {}\n",
    "    model.eval()\n",
    "    for split in ['train', 'eval']:\n",
    "        losses = torch.zeros(eval_iters)\n",
    "        for k in range(eval_iters):\n",
    "            X, Y = get_batch(split)\n",
    "            logits, loss = model(X, Y)\n",
    "            losses[k] = loss.item()\n",
    "        out[split] = losses.mean()\n",
    "    model.train()\n",
    "    return out"
   ]
  },
  {
   "cell_type": "code",
   "execution_count": 14,
   "id": "64d4ae46-31ad-48d9-932e-0f364d130a30",
   "metadata": {},
   "outputs": [
    {
     "name": "stdout",
     "output_type": "stream",
     "text": [
      "torch.Size([128, 65])\n",
      "tensor(4.6852, grad_fn=<NllLossBackward0>)\n"
     ]
    }
   ],
   "source": [
    "import torch\n",
    "import torch.nn as nn\n",
    "from torch.nn import functional as F\n",
    "\n",
    "class BigramLM(nn.Module):\n",
    "    def __init__(self, vocab_size):\n",
    "        super().__init__()\n",
    "        self.token_embedding_table = nn.Embedding(vocab_size, vocab_size)\n",
    "    \n",
    "    def forward(self, idx, targets=None):\n",
    "        logits = self.token_embedding_table(idx)\n",
    "        if targets is None:\n",
    "            loss = None\n",
    "        else:\n",
    "            \n",
    "            B, T, C = logits.shape\n",
    "            logits = logits.view(B*T, C)\n",
    "            targets = targets.view(B*T)\n",
    "            loss = F.cross_entropy(logits, targets)\n",
    "        return logits, loss\n",
    "        \n",
    "    def generate(self, idx, max_new_tokens):\n",
    "        for _ in range(max_new_tokens):\n",
    "            logits, loss = self(idx)\n",
    "            logits = logits[:,-1,:] #only the last time step, becomes B, C\n",
    "            probs = F.softmax(logits, dim =-1)\n",
    "            idx_next = torch.multinomial(probs, num_samples=1) # B,1\n",
    "            idx = torch.cat((idx, idx_next), dim=1) #B, T+1\n",
    "        return idx\n",
    "\n",
    "#cros_entropy = sigma(pi*ln(pi))\n",
    "model = BigramLM(vocab_size)\n",
    "m = model.to(mps_device)\n",
    "logits, loss = model(xb, yb)\n",
    "print(logits.shape)\n",
    "print(loss) # how is this ln(1/65)"
   ]
  },
  {
   "cell_type": "code",
   "execution_count": 15,
   "id": "9f8c2452-cf20-4197-b2e7-35fb34491e9e",
   "metadata": {},
   "outputs": [
    {
     "name": "stdout",
     "output_type": "stream",
     "text": [
      "\n",
      "et'AcCaEDq\n",
      ":sRW:SSyjXUMCg$mXxt.MK;gsdp:RQEbThnAfDP'FsIHhRW3&AfbaIydBXskCE:JzmJujoShDZLmGbnU;lyL.?XoS\n"
     ]
    }
   ],
   "source": [
    "print(decode(model.generate(idx=torch.zeros((1,1), dtype=torch.long), max_new_tokens=100)[0].tolist()))"
   ]
  },
  {
   "cell_type": "code",
   "execution_count": 17,
   "id": "2844f6d6-eb59-4f75-8c90-24a2563b7df5",
   "metadata": {},
   "outputs": [],
   "source": [
    "optimizer = torch.optim.AdamW(model.parameters(), lr=1e-3)"
   ]
  },
  {
   "cell_type": "code",
   "execution_count": 22,
   "id": "bbb0e032-e334-4234-91ce-eca461b4dd4f",
   "metadata": {},
   "outputs": [
    {
     "name": "stdout",
     "output_type": "stream",
     "text": [
      "2.500779628753662\n"
     ]
    }
   ],
   "source": [
    "batch_size = 32\n",
    "for steps in range(15000):\n",
    "    xb, yb = get_batch('train')\n",
    "    logits, loss = model(xb, yb)\n",
    "    optimizer.zero_grad(set_to_none=True)\n",
    "    loss.backward()\n",
    "    optimizer.step()\n",
    "print(loss.item())"
   ]
  },
  {
   "cell_type": "code",
   "execution_count": 23,
   "id": "99a34041-61bf-4ff8-8957-f226c65ffd5d",
   "metadata": {},
   "outputs": [
    {
     "name": "stdout",
     "output_type": "stream",
     "text": [
      "\n",
      "CREE s y se\n",
      "Vise che avothels t:\n",
      "YOLLIftho m:\n",
      "Y on,\n",
      "ING t:\n",
      "I sphiay ly\n",
      "IORBryock\n",
      "I'llerif ar uche sw\n"
     ]
    }
   ],
   "source": [
    "print(decode(model.generate(idx=torch.zeros((1,1), dtype=torch.long), max_new_tokens=100)[0].tolist()))"
   ]
  },
  {
   "cell_type": "code",
   "execution_count": null,
   "id": "2eb58d52-4a8b-4542-99b9-9ec1803d815d",
   "metadata": {},
   "outputs": [],
   "source": []
  }
 ],
 "metadata": {
  "kernelspec": {
   "display_name": "Python 3 (ipykernel)",
   "language": "python",
   "name": "python3"
  },
  "language_info": {
   "codemirror_mode": {
    "name": "ipython",
    "version": 3
   },
   "file_extension": ".py",
   "mimetype": "text/x-python",
   "name": "python",
   "nbconvert_exporter": "python",
   "pygments_lexer": "ipython3",
   "version": "3.12.0"
  }
 },
 "nbformat": 4,
 "nbformat_minor": 5
}
